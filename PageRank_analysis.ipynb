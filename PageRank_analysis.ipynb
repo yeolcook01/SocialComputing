{
 "cells": [
  {
   "cell_type": "markdown",
   "id": "d514532d",
   "metadata": {},
   "source": [
    "# 1. <lesmis.csv> PageRank Analysis"
   ]
  },
  {
   "cell_type": "code",
   "execution_count": 1,
   "id": "f34a27ad",
   "metadata": {},
   "outputs": [],
   "source": [
    "import csv, networkx as nx, operator\n",
    "\n",
    "g = nx.Graph()\n",
    "reader = csv.reader(open('lesmis.csv', 'r'), delimiter=',')\n",
    "data = [row for row in reader]\n",
    "nodes = set([row[0] for row in data])\n",
    "edges = [(row[0], row[2]) for row in data]\n",
    "\n",
    "initial_rank = 1/float(len(nodes))\n",
    "g.add_nodes_from(nodes, rank=initial_rank)\n",
    "g.add_edges_from(edges)"
   ]
  },
  {
   "cell_type": "markdown",
   "id": "c640e530",
   "metadata": {},
   "source": [
    "### 1.1 (lesmis.csv) for loop로 구현"
   ]
  },
  {
   "cell_type": "code",
   "execution_count": 2,
   "id": "043e0e06",
   "metadata": {},
   "outputs": [],
   "source": [
    "V = float(len(g))\n",
    "s = 0.85\n",
    "ranks = dict()\n",
    "\n",
    "for key, node in g.nodes(data=True):\n",
    "    ranks[key] = node.get('rank') #이전 셀에서 지정한 initial values"
   ]
  },
  {
   "cell_type": "code",
   "execution_count": 3,
   "id": "cd8e678e",
   "metadata": {},
   "outputs": [
    {
     "name": "stdout",
     "output_type": "stream",
     "text": [
      "('Valjean', 0.07543036061492989)\n",
      "('Myriel', 0.042779334746132824)\n",
      "('Gavroche', 0.03576745495576416)\n",
      "('Marius', 0.030895055642239704)\n",
      "('Javert', 0.030302836800758605)\n",
      "('Thenardier', 0.027926610139938784)\n",
      "('Fantine', 0.027022812219932153)\n",
      "('Enjolras', 0.021882118164082885)\n",
      "('Cosette', 0.020611280056444546)\n",
      "('MmeThenardier', 0.019501209144906696)\n",
      "('Bossuet', 0.01895960617700118)\n",
      "('Courfeyrac', 0.018578512415135875)\n",
      "('Eponine', 0.01779396919631372)\n",
      "('Mabeuf', 0.017478083760756147)\n",
      "('Bahorel', 0.017199955621077803)\n",
      "('Joly', 0.017199938857277552)\n",
      "('Babet', 0.01669189628398639)\n",
      "('Gueulemer', 0.01669189299046511)\n",
      "('Claquesous', 0.01656108323508992)\n",
      "('MlleGillenormand', 0.016260247015400714)\n",
      "('Feuilly', 0.01589219778024098)\n",
      "('Combeferre', 0.015892182321540837)\n",
      "('Tholomyes', 0.01564748398652512)\n",
      "('Bamatabois', 0.015576309235859427)\n",
      "('Montparnasse', 0.01517097321714718)\n",
      "('Gillenormand', 0.014957511775186673)\n",
      "('Grantaire', 0.014456718779784801)\n",
      "('Prouvaire', 0.013145934664093225)\n",
      "('Zephine', 0.012618254932462542)\n",
      "('Fameuil', 0.012618250926614087)\n"
     ]
    }
   ],
   "source": [
    "for _ in range(30):\n",
    "    for key, node in g.nodes(data=True):\n",
    "        rank_sum = 0.0\n",
    "        neighbors = g[key]\n",
    "        for n in neighbors:\n",
    "            if ranks[n] is not None:\n",
    "                rank_sum += (1/float(len(list(g.neighbors(n)))))*ranks[n]\n",
    "        ranks[key] = ((1-s)*(1/V)) + s*rank_sum\n",
    "        \n",
    "sorted_ranks = sorted(ranks.items(), key=operator.itemgetter(1), reverse=True)\n",
    "\n",
    "for i in range(30):\n",
    "    print(sorted_ranks[i])"
   ]
  },
  {
   "cell_type": "markdown",
   "id": "cbddec95",
   "metadata": {},
   "source": [
    "### 1.2 (lesmis.csv) MapReduce로 구현"
   ]
  },
  {
   "cell_type": "code",
   "execution_count": 4,
   "id": "313eea53",
   "metadata": {},
   "outputs": [],
   "source": [
    "pages = {}\n",
    "\n",
    "for page_id, node in g.nodes(data=True):\n",
    "    neighbors = g.neighbors(page_id)\n",
    "    neighbors_ids = [neighbor for neighbor in neighbors] #이웃의 id를 따로 neighbors_ids 리스트에 지정\n",
    "    value = [initial_rank, neighbors_ids]\n",
    "    pages[page_id] = value"
   ]
  },
  {
   "cell_type": "code",
   "execution_count": 5,
   "id": "07099335",
   "metadata": {},
   "outputs": [],
   "source": [
    "def mapper(page_id, value):\n",
    "    neighbors = [neighbor for neighbor in g.neighbors(page_id)]\n",
    "    out_pagerank = value[0]/float(len(neighbors))\n",
    "    outputs = [(page_id, value)]\n",
    "    for neighbor in neighbors:\n",
    "        outputs.append((neighbor, out_pagerank))\n",
    "    return outputs\n",
    "\n",
    "def reducer(page_id, values):\n",
    "    output = []\n",
    "    rank_sum = 0.0\n",
    "    if page_id not in result:\n",
    "        result[page_id] = output\n",
    "    for value in values:\n",
    "        if type(value)==list:\n",
    "            output = value\n",
    "        else:\n",
    "            rank_sum += value\n",
    "    rank_sum = (1-s)*(1/V) + s*rank_sum\n",
    "    output.insert(0, rank_sum)\n",
    "    return (page_id, output)\n",
    "\n",
    "def map_reduce(pages, mapper, reducer):\n",
    "    intermediate = []\n",
    "    for (page_id, value) in pages.items():\n",
    "        intermediate.extend(mapper(page_id, value))\n",
    "    groups = {}\n",
    "    for (page_id, values) in intermediate:\n",
    "        if page_id not in groups:\n",
    "            groups[page_id] = []\n",
    "        groups[page_id].append(values)\n",
    "    result = {}\n",
    "    for (page_id, values) in groups.items():\n",
    "        (new_key, new_value) = reducer(page_id, values)\n",
    "        result[new_key] = new_value\n",
    "    \n",
    "    return result"
   ]
  },
  {
   "cell_type": "code",
   "execution_count": 6,
   "id": "43628aa8",
   "metadata": {
    "scrolled": false
   },
   "outputs": [
    {
     "name": "stdout",
     "output_type": "stream",
     "text": [
      "('Valjean', 0.0754325705628629)\n",
      "('Myriel', 0.042780771929496524)\n",
      "('Gavroche', 0.03576581219329744)\n",
      "('Marius', 0.030893881254583037)\n",
      "('Javert', 0.030302722981753596)\n",
      "('Thenardier', 0.027926133667705723)\n",
      "('Fantine', 0.027022610455348414)\n",
      "('Enjolras', 0.021880921916695686)\n",
      "('Cosette', 0.020611120248805858)\n",
      "('MmeThenardier', 0.01950097767532012)\n",
      "('Bossuet', 0.01895845410681974)\n",
      "('Courfeyrac', 0.018577277714293575)\n",
      "('Eponine', 0.017793461559582942)\n",
      "('Mabeuf', 0.01747706246804825)\n",
      "('Bahorel', 0.017198762987040973)\n",
      "('Joly', 0.017198762987040973)\n",
      "('Gueulemer', 0.01669162427078174)\n",
      "('Babet', 0.01669162427078174)\n",
      "('Claquesous', 0.016560801738472047)\n",
      "('MlleGillenormand', 0.01626009151352342)\n",
      "('Feuilly', 0.015891111569163133)\n",
      "('Combeferre', 0.015891111569163133)\n",
      "('Tholomyes', 0.0156471513808634)\n",
      "('Bamatabois', 0.015576755712852655)\n",
      "('Montparnasse', 0.015170728113858563)\n",
      "('Gillenormand', 0.014957350502284635)\n",
      "('Grantaire', 0.014455713491591873)\n",
      "('Prouvaire', 0.013145026830567117)\n",
      "('Zephine', 0.012617995889814725)\n",
      "('Listolier', 0.012617995889814725)\n"
     ]
    }
   ],
   "source": [
    "result = {}\n",
    "for i in range(30):\n",
    "    result = map_reduce(pages, mapper, reducer)\n",
    "\n",
    "ranks = {}\n",
    "for key, value in result.items():\n",
    "    ranks[key] = value[0]\n",
    "\n",
    "sorted_ranks = sorted(ranks.items(), key=operator.itemgetter(1), reverse=True)\n",
    "\n",
    "for i in range(min(30, len(ranks))):\n",
    "    print(sorted_ranks[i])"
   ]
  },
  {
   "cell_type": "markdown",
   "id": "fc50dabf",
   "metadata": {},
   "source": [
    "# 2. <dophins.csv> PageRank Analysis"
   ]
  },
  {
   "cell_type": "code",
   "execution_count": 7,
   "id": "20dc40f4",
   "metadata": {},
   "outputs": [],
   "source": [
    "import csv, networkx as nx, operator\n",
    "\n",
    "g = nx.Graph()\n",
    "reader = csv.reader(open('dolphins.csv', 'r'), delimiter=',')\n",
    "data = [row for row in reader]\n",
    "nodes = set([row[0] for row in data])\n",
    "edges = [(row[0], row[2]) for row in data]\n",
    "\n",
    "initial_rank = 1/float(len(nodes))\n",
    "g.add_nodes_from(nodes, rank=initial_rank)\n",
    "g.add_edges_from(edges)"
   ]
  },
  {
   "cell_type": "markdown",
   "id": "efdc3d17",
   "metadata": {},
   "source": [
    "### 2.1 (dolphins.csv) for loop로 구현"
   ]
  },
  {
   "cell_type": "code",
   "execution_count": 8,
   "id": "12ac8e1d",
   "metadata": {},
   "outputs": [],
   "source": [
    "V = float(len(g))\n",
    "s = 0.85\n",
    "ranks = dict()\n",
    "\n",
    "for key, node in g.nodes(data=True):\n",
    "    ranks[key] = node.get('rank') #이전 셀에서 지정한 initial values"
   ]
  },
  {
   "cell_type": "code",
   "execution_count": 9,
   "id": "1e445929",
   "metadata": {
    "scrolled": true
   },
   "outputs": [
    {
     "name": "stdout",
     "output_type": "stream",
     "text": [
      "('Grin', 0.032144661074043256)\n",
      "('Jet', 0.031728242874119315)\n",
      "('Trigger', 0.03129949562749031)\n",
      "('Web', 0.030095503912994072)\n",
      "('SN4', 0.029875507501931024)\n",
      "('Topless', 0.02951436073814428)\n",
      "('Scabs', 0.02842318672995743)\n",
      "('Patchback', 0.02645865564842151)\n",
      "('Gallatin', 0.026156982883970194)\n",
      "('Beescratch', 0.0246508294741647)\n",
      "('Kringel', 0.02464103469926497)\n",
      "('SN63', 0.023939337011051824)\n",
      "('Feather', 0.023458564620806737)\n",
      "('SN9', 0.021966479469402438)\n",
      "('Stripes', 0.021691217550549015)\n",
      "('Upbang', 0.021650964797697257)\n",
      "('SN100', 0.02061348065572507)\n",
      "('DN21', 0.020053713666974424)\n",
      "('Haecksel', 0.01988316209821579)\n",
      "('Jonah', 0.01939565578270089)\n",
      "('TR99', 0.019232029370781188)\n",
      "('SN96', 0.017618739596473858)\n",
      "('TR77', 0.01733958987165038)\n",
      "('Number1', 0.017130151143936772)\n",
      "('Double', 0.017098373632707164)\n",
      "('Beak', 0.01696546725521975)\n",
      "('MN105', 0.016939067247185753)\n",
      "('MN83', 0.016905831841905763)\n",
      "('Hook', 0.016626897859909517)\n",
      "('SN90', 0.016137645145904465)\n"
     ]
    }
   ],
   "source": [
    "for _ in range(30):\n",
    "    for key, node in g.nodes(data=True):\n",
    "        rank_sum = 0.0\n",
    "        neighbors = g[key]\n",
    "        for n in neighbors:\n",
    "            if ranks[n] is not None:\n",
    "                rank_sum += (1/float(len(list(g.neighbors(n)))))*ranks[n]\n",
    "        ranks[key] = ((1-s)*(1/V)) + s*rank_sum\n",
    "        \n",
    "sorted_ranks = sorted(ranks.items(), key=operator.itemgetter(1), reverse=True)\n",
    "\n",
    "for i in range(30):\n",
    "    print(sorted_ranks[i])"
   ]
  },
  {
   "cell_type": "markdown",
   "id": "30bbe86f",
   "metadata": {},
   "source": [
    "### 2.2 (dolphins.csv) MapReduce로 구현"
   ]
  },
  {
   "cell_type": "code",
   "execution_count": 10,
   "id": "3cd30baf",
   "metadata": {},
   "outputs": [],
   "source": [
    "pages = {}\n",
    "\n",
    "for page_id, node in g.nodes(data=True):\n",
    "    neighbors = g.neighbors(page_id)\n",
    "    neighbors_ids = [neighbor for neighbor in neighbors] #이웃의 id를 따로 neighbors_ids 리스트에 지정\n",
    "    value = [initial_rank, neighbors_ids]\n",
    "    pages[page_id] = value"
   ]
  },
  {
   "cell_type": "code",
   "execution_count": 11,
   "id": "dfd2a554",
   "metadata": {},
   "outputs": [],
   "source": [
    "def mapper(page_id, value):\n",
    "    neighbors = [neighbor for neighbor in g.neighbors(page_id)]\n",
    "    out_pagerank = value[0]/float(len(neighbors))\n",
    "    outputs = [(page_id, value)]\n",
    "    for neighbor in neighbors:\n",
    "        outputs.append((neighbor, out_pagerank))\n",
    "    return outputs\n",
    "\n",
    "def reducer(page_id, values):\n",
    "    output = []\n",
    "    rank_sum = 0.0\n",
    "    if page_id not in result:\n",
    "        result[page_id] = output\n",
    "    for value in values:\n",
    "        if type(value)==list:\n",
    "            output = value\n",
    "        else:\n",
    "            rank_sum += value\n",
    "    rank_sum = (1-s)*(1/V) + s*rank_sum\n",
    "    output.insert(0, rank_sum)\n",
    "    return (page_id, output)\n",
    "\n",
    "def map_reduce(pages, mapper, reducer):\n",
    "    intermediate = []\n",
    "    for (page_id, value) in pages.items():\n",
    "        intermediate.extend(mapper(page_id, value))\n",
    "    groups = {}\n",
    "    for (page_id, values) in intermediate:\n",
    "        if page_id not in groups:\n",
    "            groups[page_id] = []\n",
    "        groups[page_id].append(values)\n",
    "    result = {}\n",
    "    for (page_id, values) in groups.items():\n",
    "        (new_key, new_value) = reducer(page_id, values)\n",
    "        result[new_key] = new_value\n",
    "    \n",
    "    return result"
   ]
  },
  {
   "cell_type": "code",
   "execution_count": 12,
   "id": "cf755df6",
   "metadata": {
    "scrolled": true
   },
   "outputs": [
    {
     "name": "stdout",
     "output_type": "stream",
     "text": [
      "('Grin', 0.032143493442158756)\n",
      "('Jet', 0.03172987260913328)\n",
      "('Trigger', 0.031298461173290625)\n",
      "('Web', 0.030097132110645918)\n",
      "('SN4', 0.029874478226395832)\n",
      "('Topless', 0.029513285559113984)\n",
      "('Scabs', 0.02842221290110614)\n",
      "('Patchback', 0.026457745524539136)\n",
      "('Gallatin', 0.026158554472606777)\n",
      "('Beescratch', 0.024651663857178114)\n",
      "('Kringel', 0.024640340666397965)\n",
      "('SN63', 0.023938558126031673)\n",
      "('Feather', 0.023459983732054757)\n",
      "('SN9', 0.021965930984060314)\n",
      "('Stripes', 0.021690489047081075)\n",
      "('Upbang', 0.021652012313247895)\n",
      "('SN100', 0.02061326520484631)\n",
      "('DN21', 0.020054875803600696)\n",
      "('Haecksel', 0.01988252275398361)\n",
      "('Jonah', 0.019394942163937418)\n",
      "('TR99', 0.019231376478232906)\n",
      "('SN96', 0.017618310074007503)\n",
      "('TR77', 0.017339252660100602)\n",
      "('Number1', 0.01713082750899772)\n",
      "('Double', 0.017097908551891958)\n",
      "('Beak', 0.01696498743988919)\n",
      "('MN105', 0.016938455850072184)\n",
      "('MN83', 0.016905222553468074)\n",
      "('Hook', 0.01662631852870373)\n",
      "('SN90', 0.016138504272230323)\n"
     ]
    }
   ],
   "source": [
    "result = {}\n",
    "for i in range(30):\n",
    "    result = map_reduce(pages, mapper, reducer)\n",
    "\n",
    "ranks = {}\n",
    "for key, value in result.items():\n",
    "    ranks[key] = value[0]\n",
    "\n",
    "sorted_ranks = sorted(ranks.items(), key=operator.itemgetter(1), reverse=True)\n",
    "\n",
    "for i in range(min(30, len(ranks))):\n",
    "    print(sorted_ranks[i])"
   ]
  },
  {
   "cell_type": "markdown",
   "id": "094fe3fb",
   "metadata": {},
   "source": [
    "# 분석 결과\n",
    "\n",
    "### for loop 방식\n",
    "- 그래프 내 하나의 노드에 대응하는 page rank값을 일대일로 구하고, 구한 page_rank를 리스트에 저장하는 방식을 취한다.  \n",
    "  \n",
    "\n",
    "### MapReduce 방식\n",
    "1. mapper를 통해 각 노드의 이웃을 먼저  파악한 후 해당 노드가 이웃에게 부여할 rank값(out_pagerank = pagerank / neighbor의 수)을 구하여 이웃 노드에 분배한다. 그 결과 intermediate 리스트의 원소는 [(id, value), (이웃id, 분배 받은 rank), (이웃id, 분배 받은 rank), ...]형식을 갖게 된다.\n",
    "2. groupbykey 작업을 통해 공통 키(노드 id)끼리 값을 묶어준다. 그 결과 groups 딕셔너리의 키에는 page_id가, 값에는 value 리스트와 분배받은 rank 값들이 들어온다. (ex. {page_1: value, rank, rank..., page_2: value, rank, rank..})\n",
    "3. reducer를 통해 각 page의 page_rank를 계산한다. 그 결과 result 딕셔너리의 키는 page_id이고, 각 키의 첫번째 값에 page_rank가 저장된다.  \n",
    "\n",
    "#### MapReduce는 대용량의 데이터를 일괄(병렬)처리 할 수 있으며, Pagerank의 계산을 Map과 Reduce라는 다소 단순한 함수를 통해 간단하게 구현할 수 있다.\n",
    "#### for loop 방식과 MapReduce 방식의 결과로 도출되는 pagerank값은 아주 미묘한 차이가 있지만, 궁극적으로 pagerank '순위' 상의 차이는 없다."
   ]
  },
  {
   "cell_type": "code",
   "execution_count": null,
   "id": "9f772eb5",
   "metadata": {},
   "outputs": [],
   "source": []
  }
 ],
 "metadata": {
  "kernelspec": {
   "display_name": "Python 3",
   "language": "python",
   "name": "python3"
  },
  "language_info": {
   "codemirror_mode": {
    "name": "ipython",
    "version": 3
   },
   "file_extension": ".py",
   "mimetype": "text/x-python",
   "name": "python",
   "nbconvert_exporter": "python",
   "pygments_lexer": "ipython3",
   "version": "3.8.0"
  }
 },
 "nbformat": 4,
 "nbformat_minor": 5
}
